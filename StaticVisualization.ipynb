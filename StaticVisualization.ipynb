{
 "cells": [
  {
   "cell_type": "markdown",
   "metadata": {},
   "source": [
    "# Trace Visualization\n",
    "\n",
    "## Outline of the scrip\n",
    "1. Import libraries \n",
    "2. Load trace data into pandas dataframe \n",
    "3. Process the trace data\n",
    "4. Define map layout\n",
    "5. Define data on the map plot\n",
    "6. Create plot\n",
    "7. Display plot"
   ]
  },
  {
   "cell_type": "code",
   "execution_count": 1,
   "metadata": {},
   "outputs": [],
   "source": [
    "# Import libraries\n",
    "# import pandas as pd\n",
    "# from pyworkout.parsers import tcxtools\n",
    "\n",
    "import tcxparser\n",
    "import numpy as np\n"
   ]
  },
  {
   "cell_type": "code",
   "execution_count": 2,
   "metadata": {},
   "outputs": [],
   "source": [
    "'''\n",
    "2. Loading Trace data into pandas dataframe\n",
    "'''\n",
    "\n",
    "# Define the path to your .txc file\n",
    "file_path = 'Data/Test.tcx'\n",
    "\n",
    "# Load the data into a tcxparser object\n",
    "tcx = tcxparser.TCXParser(file_path)\n",
    "\n",
    "# To access datas\n",
    "# get positions: tcx.position_values()\n",
    "# get duration (seconds): tcx.duration\n",
    "# get distance: tcx.root.Activities.Activity.Lap[0].DistanceMeters\n",
    "# get pace (second/km): pace = tcx.duration / (tcx.root.Activities.Activity.Lap[0].DistanceMeters / 1000)"
   ]
  },
  {
   "cell_type": "code",
   "execution_count": 3,
   "metadata": {},
   "outputs": [
    {
     "data": {
      "text/plain": [
       "'\\n3. Process the data\\n'"
      ]
     },
     "execution_count": 3,
     "metadata": {},
     "output_type": "execute_result"
    }
   ],
   "source": [
    "'''\n",
    "3. Process the data\n",
    "'''"
   ]
  },
  {
   "cell_type": "code",
   "execution_count": 4,
   "metadata": {},
   "outputs": [
    {
     "name": "stdout",
     "output_type": "stream",
     "text": [
      "[42.27741457, 42.2834848]\n",
      "[-83.72480587, -83.71379872]\n"
     ]
    }
   ],
   "source": [
    "temp = np.array(tcx.position_values())\n",
    "lats = temp[:, 0]\n",
    "lons = temp[:, 1]\n",
    "\n",
    "# print([lats[0], lons[0]])\n",
    "\n",
    "print([lats.min(), lats.max()])\n",
    "print([lons.min(), lons.max()])"
   ]
  },
  {
   "cell_type": "code",
   "execution_count": 5,
   "metadata": {},
   "outputs": [
    {
     "data": {
      "application/vnd.plotly.v1+json": {
       "config": {
        "plotlyServerURL": "https://plot.ly"
       },
       "data": [
        {
         "hovertemplate": "lat=%{lat}<br>lon=%{lon}<extra></extra>",
         "lat": [
          42.27741457,
          42.27741457,
          42.27746242,
          42.27748851,
          42.27757184,
          42.27769581,
          42.27780394,
          42.27787649,
          42.27791974,
          42.27802334,
          42.27812713,
          42.27822611,
          42.27832126,
          42.2783747,
          42.27843326,
          42.2785256,
          42.27861594,
          42.27870754,
          42.2788765,
          42.27899154,
          42.27910816,
          42.27919485,
          42.2793052,
          42.27938442,
          42.27943373,
          42.27947019,
          42.27950654,
          42.27954201,
          42.27961634,
          42.27971056,
          42.2798143,
          42.27992084,
          42.28003385,
          42.28011911,
          42.2801787,
          42.28023759,
          42.28030986,
          42.2803987,
          42.28047578,
          42.28056744,
          42.28060381,
          42.28060662,
          42.28064658,
          42.280709,
          42.28078162,
          42.28084972,
          42.28094025,
          42.28104738,
          42.28115146,
          42.28124549,
          42.28133316,
          42.28141125,
          42.28150298,
          42.28155951,
          42.28163569,
          42.2817138,
          42.28181061,
          42.28189315,
          42.28196933,
          42.28203734,
          42.28212425,
          42.28219386,
          42.28227982,
          42.28233182,
          42.28237827,
          42.28244554,
          42.28251417,
          42.28261266,
          42.28271528,
          42.28283032,
          42.28289617,
          42.282939,
          42.28297465,
          42.28299605,
          42.28301545,
          42.28305685,
          42.283083,
          42.28311906,
          42.28315555,
          42.28318925,
          42.28322352,
          42.28323031,
          42.2832391,
          42.28326129,
          42.28329758,
          42.28333382,
          42.28334557,
          42.28335439,
          42.28337455,
          42.28338719,
          42.28340317,
          42.2834303,
          42.28344551,
          42.2834848,
          42.2834846,
          42.28343966,
          42.28340389,
          42.28335382,
          42.28331547,
          42.28327792,
          42.28326767,
          42.28323515,
          42.28321225,
          42.2831692,
          42.28313716,
          42.28312267,
          42.28308126,
          42.2830314,
          42.28294867,
          42.28285914,
          42.28278038,
          42.28270469,
          42.28261759,
          42.28252563,
          42.28249787,
          42.2824621,
          42.28241751,
          42.28234452,
          42.28227192,
          42.28224963,
          42.28223271,
          42.2822214,
          42.28215071,
          42.28205012,
          42.28196143,
          42.28185113,
          42.28175722,
          42.2816755,
          42.28157094,
          42.2814754,
          42.28145358,
          42.28139962,
          42.28130245,
          42.28119669,
          42.28109912,
          42.28102801,
          42.28093813,
          42.28085926,
          42.2807937,
          42.28072516,
          42.28065517,
          42.28057497,
          42.28048181,
          42.28047911,
          42.28050659,
          42.2805462,
          42.28057188,
          42.2806215,
          42.28068875,
          42.28074897,
          42.28081882,
          42.28088651,
          42.2809056,
          42.28098364,
          42.28106496,
          42.28113865,
          42.28122388,
          42.28128202,
          42.28132158,
          42.28127145,
          42.28126258,
          42.28129572,
          42.28134767,
          42.28142789,
          42.28152972,
          42.28160889,
          42.28166188,
          42.28172313,
          42.28179668,
          42.28185334,
          42.28194569,
          42.2820468,
          42.28216582,
          42.28225793,
          42.28233076,
          42.28241112,
          42.28247063,
          42.28252773,
          42.2826051,
          42.28267793,
          42.28276666,
          42.28284552,
          42.28284552,
          42.28294304,
          42.28298751,
          42.28301396,
          42.28301306,
          42.28301808,
          42.2829871,
          42.28292011,
          42.28283663,
          42.28278159,
          42.2827964,
          42.28282779,
          42.28282453,
          42.28280877,
          42.28282676,
          42.28283666,
          42.28286212,
          42.28296132,
          42.28298672,
          42.28294292,
          42.28290513,
          42.28286779,
          42.2828356,
          42.28278159,
          42.28273623,
          42.28271099,
          42.28268172,
          42.28267096,
          42.28265919,
          42.28264039,
          42.28260089,
          42.2826132,
          42.28262207,
          42.28262972,
          42.28261882,
          42.28264986,
          42.28267648,
          42.28272871,
          42.28272579,
          42.28275228,
          42.28274607,
          42.28276466,
          42.28277527,
          42.28278698,
          42.28282335,
          42.28285304,
          42.28287117,
          42.28292576,
          42.28291891,
          42.28292231,
          42.28292721
         ],
         "legendgroup": "",
         "lon": [
          -83.72430448,
          -83.72430448,
          -83.72446985,
          -83.72460522,
          -83.72471625,
          -83.72471653,
          -83.72466221,
          -83.72453073,
          -83.72439532,
          -83.72433738,
          -83.72433769,
          -83.72440116,
          -83.72442921,
          -83.72454747,
          -83.72465902,
          -83.72472643,
          -83.72472986,
          -83.72469685,
          -83.72467276,
          -83.72470992,
          -83.72474626,
          -83.72479924,
          -83.72480587,
          -83.72474396,
          -83.72464142,
          -83.72451958,
          -83.72438825,
          -83.7242444,
          -83.72412166,
          -83.7240897,
          -83.72409244,
          -83.72409739,
          -83.72410885,
          -83.72404012,
          -83.72394041,
          -83.72380364,
          -83.72371228,
          -83.72362779,
          -83.72354518,
          -83.72343163,
          -83.7232893,
          -83.72315464,
          -83.72302932,
          -83.7229171,
          -83.72280908,
          -83.72272015,
          -83.72263672,
          -83.7225809,
          -83.72250975,
          -83.72245219,
          -83.72236951,
          -83.72225189,
          -83.72213326,
          -83.72203263,
          -83.72191199,
          -83.7218064,
          -83.72173338,
          -83.72163003,
          -83.72151205,
          -83.72140241,
          -83.72131297,
          -83.72120801,
          -83.72111121,
          -83.7209831,
          -83.72085515,
          -83.7207342,
          -83.72064448,
          -83.72064236,
          -83.72068112,
          -83.72069674,
          -83.72059217,
          -83.7204774,
          -83.72033004,
          -83.72020401,
          -83.72007983,
          -83.71994731,
          -83.71981244,
          -83.71966571,
          -83.71952755,
          -83.71938417,
          -83.71926036,
          -83.71912112,
          -83.71899497,
          -83.71886514,
          -83.71874618,
          -83.71861316,
          -83.71847699,
          -83.71833382,
          -83.71819002,
          -83.71802466,
          -83.71788539,
          -83.71774924,
          -83.71762889,
          -83.71748839,
          -83.71735042,
          -83.71721603,
          -83.71708985,
          -83.71697103,
          -83.71683502,
          -83.71670009,
          -83.71657839,
          -83.7164604,
          -83.71633833,
          -83.71622472,
          -83.71611051,
          -83.71596823,
          -83.71585704,
          -83.71574145,
          -83.71566341,
          -83.71563933,
          -83.71570629,
          -83.71580877,
          -83.71590015,
          -83.71586169,
          -83.71574224,
          -83.71563073,
          -83.71549627,
          -83.71538387,
          -83.7152771,
          -83.71514988,
          -83.71499461,
          -83.71485134,
          -83.7147753,
          -83.71478253,
          -83.71484134,
          -83.71488165,
          -83.7148479,
          -83.71477109,
          -83.71475304,
          -83.71469738,
          -83.71454691,
          -83.71444193,
          -83.71441863,
          -83.71445586,
          -83.71442628,
          -83.71434516,
          -83.7142819,
          -83.7142048,
          -83.71410545,
          -83.71398735,
          -83.71388126,
          -83.71379872,
          -83.71383272,
          -83.71399734,
          -83.71414474,
          -83.71429735,
          -83.71443979,
          -83.71458547,
          -83.71470283,
          -83.7148025,
          -83.71492422,
          -83.71500971,
          -83.71515723,
          -83.7152508,
          -83.71535471,
          -83.71544326,
          -83.71555093,
          -83.71567886,
          -83.71580793,
          -83.71591931,
          -83.71605019,
          -83.71619513,
          -83.71632613,
          -83.71643661,
          -83.71651416,
          -83.71660248,
          -83.71670767,
          -83.71683806,
          -83.71693935,
          -83.71704493,
          -83.717117,
          -83.71716818,
          -83.71718838,
          -83.71723744,
          -83.71732962,
          -83.71744498,
          -83.71753654,
          -83.71763518,
          -83.71775318,
          -83.71782956,
          -83.7179336,
          -83.71802762,
          -83.71802762,
          -83.71824613,
          -83.71835664,
          -83.71849266,
          -83.71862762,
          -83.71877802,
          -83.71892244,
          -83.71905159,
          -83.71912541,
          -83.71922787,
          -83.71935801,
          -83.71949326,
          -83.71962736,
          -83.71978893,
          -83.71994013,
          -83.72006696,
          -83.72018726,
          -83.72027861,
          -83.72041353,
          -83.72052529,
          -83.72063949,
          -83.72077603,
          -83.72093724,
          -83.72107392,
          -83.72119568,
          -83.72132861,
          -83.72146707,
          -83.72160473,
          -83.72173277,
          -83.72188223,
          -83.72202312,
          -83.7221514,
          -83.72229909,
          -83.72244188,
          -83.72256695,
          -83.72271399,
          -83.72286381,
          -83.722985,
          -83.72311753,
          -83.7232579,
          -83.72341259,
          -83.72354834,
          -83.72367891,
          -83.7238352,
          -83.72396896,
          -83.72409643,
          -83.72422506,
          -83.72433847,
          -83.72447573,
          -83.72461699,
          -83.72463441
         ],
         "marker": {
          "color": "#636efa"
         },
         "mode": "markers",
         "name": "",
         "showlegend": false,
         "subplot": "mapbox",
         "type": "scattermapbox"
        }
       ],
       "layout": {
        "legend": {
         "tracegroupgap": 0
        },
        "mapbox": {
         "accesstoken": "pk.eyJ1Ijoic2M0NyIsImEiOiJjbG5qcjJmYXExa2sxMmltbjd2dHU4aWt6In0.aw9c0mWc6XwId0GtIBjG2A",
         "center": {
          "lat": 42.28169973339057,
          "lon": -83.71957328806867
         },
         "domain": {
          "x": [
           0,
           1
          ],
          "y": [
           0,
           1
          ]
         },
         "zoom": 8
        },
        "margin": {
         "t": 60
        },
        "template": {
         "data": {
          "bar": [
           {
            "error_x": {
             "color": "#2a3f5f"
            },
            "error_y": {
             "color": "#2a3f5f"
            },
            "marker": {
             "line": {
              "color": "#E5ECF6",
              "width": 0.5
             },
             "pattern": {
              "fillmode": "overlay",
              "size": 10,
              "solidity": 0.2
             }
            },
            "type": "bar"
           }
          ],
          "barpolar": [
           {
            "marker": {
             "line": {
              "color": "#E5ECF6",
              "width": 0.5
             },
             "pattern": {
              "fillmode": "overlay",
              "size": 10,
              "solidity": 0.2
             }
            },
            "type": "barpolar"
           }
          ],
          "carpet": [
           {
            "aaxis": {
             "endlinecolor": "#2a3f5f",
             "gridcolor": "white",
             "linecolor": "white",
             "minorgridcolor": "white",
             "startlinecolor": "#2a3f5f"
            },
            "baxis": {
             "endlinecolor": "#2a3f5f",
             "gridcolor": "white",
             "linecolor": "white",
             "minorgridcolor": "white",
             "startlinecolor": "#2a3f5f"
            },
            "type": "carpet"
           }
          ],
          "choropleth": [
           {
            "colorbar": {
             "outlinewidth": 0,
             "ticks": ""
            },
            "type": "choropleth"
           }
          ],
          "contour": [
           {
            "colorbar": {
             "outlinewidth": 0,
             "ticks": ""
            },
            "colorscale": [
             [
              0,
              "#0d0887"
             ],
             [
              0.1111111111111111,
              "#46039f"
             ],
             [
              0.2222222222222222,
              "#7201a8"
             ],
             [
              0.3333333333333333,
              "#9c179e"
             ],
             [
              0.4444444444444444,
              "#bd3786"
             ],
             [
              0.5555555555555556,
              "#d8576b"
             ],
             [
              0.6666666666666666,
              "#ed7953"
             ],
             [
              0.7777777777777778,
              "#fb9f3a"
             ],
             [
              0.8888888888888888,
              "#fdca26"
             ],
             [
              1,
              "#f0f921"
             ]
            ],
            "type": "contour"
           }
          ],
          "contourcarpet": [
           {
            "colorbar": {
             "outlinewidth": 0,
             "ticks": ""
            },
            "type": "contourcarpet"
           }
          ],
          "heatmap": [
           {
            "colorbar": {
             "outlinewidth": 0,
             "ticks": ""
            },
            "colorscale": [
             [
              0,
              "#0d0887"
             ],
             [
              0.1111111111111111,
              "#46039f"
             ],
             [
              0.2222222222222222,
              "#7201a8"
             ],
             [
              0.3333333333333333,
              "#9c179e"
             ],
             [
              0.4444444444444444,
              "#bd3786"
             ],
             [
              0.5555555555555556,
              "#d8576b"
             ],
             [
              0.6666666666666666,
              "#ed7953"
             ],
             [
              0.7777777777777778,
              "#fb9f3a"
             ],
             [
              0.8888888888888888,
              "#fdca26"
             ],
             [
              1,
              "#f0f921"
             ]
            ],
            "type": "heatmap"
           }
          ],
          "heatmapgl": [
           {
            "colorbar": {
             "outlinewidth": 0,
             "ticks": ""
            },
            "colorscale": [
             [
              0,
              "#0d0887"
             ],
             [
              0.1111111111111111,
              "#46039f"
             ],
             [
              0.2222222222222222,
              "#7201a8"
             ],
             [
              0.3333333333333333,
              "#9c179e"
             ],
             [
              0.4444444444444444,
              "#bd3786"
             ],
             [
              0.5555555555555556,
              "#d8576b"
             ],
             [
              0.6666666666666666,
              "#ed7953"
             ],
             [
              0.7777777777777778,
              "#fb9f3a"
             ],
             [
              0.8888888888888888,
              "#fdca26"
             ],
             [
              1,
              "#f0f921"
             ]
            ],
            "type": "heatmapgl"
           }
          ],
          "histogram": [
           {
            "marker": {
             "pattern": {
              "fillmode": "overlay",
              "size": 10,
              "solidity": 0.2
             }
            },
            "type": "histogram"
           }
          ],
          "histogram2d": [
           {
            "colorbar": {
             "outlinewidth": 0,
             "ticks": ""
            },
            "colorscale": [
             [
              0,
              "#0d0887"
             ],
             [
              0.1111111111111111,
              "#46039f"
             ],
             [
              0.2222222222222222,
              "#7201a8"
             ],
             [
              0.3333333333333333,
              "#9c179e"
             ],
             [
              0.4444444444444444,
              "#bd3786"
             ],
             [
              0.5555555555555556,
              "#d8576b"
             ],
             [
              0.6666666666666666,
              "#ed7953"
             ],
             [
              0.7777777777777778,
              "#fb9f3a"
             ],
             [
              0.8888888888888888,
              "#fdca26"
             ],
             [
              1,
              "#f0f921"
             ]
            ],
            "type": "histogram2d"
           }
          ],
          "histogram2dcontour": [
           {
            "colorbar": {
             "outlinewidth": 0,
             "ticks": ""
            },
            "colorscale": [
             [
              0,
              "#0d0887"
             ],
             [
              0.1111111111111111,
              "#46039f"
             ],
             [
              0.2222222222222222,
              "#7201a8"
             ],
             [
              0.3333333333333333,
              "#9c179e"
             ],
             [
              0.4444444444444444,
              "#bd3786"
             ],
             [
              0.5555555555555556,
              "#d8576b"
             ],
             [
              0.6666666666666666,
              "#ed7953"
             ],
             [
              0.7777777777777778,
              "#fb9f3a"
             ],
             [
              0.8888888888888888,
              "#fdca26"
             ],
             [
              1,
              "#f0f921"
             ]
            ],
            "type": "histogram2dcontour"
           }
          ],
          "mesh3d": [
           {
            "colorbar": {
             "outlinewidth": 0,
             "ticks": ""
            },
            "type": "mesh3d"
           }
          ],
          "parcoords": [
           {
            "line": {
             "colorbar": {
              "outlinewidth": 0,
              "ticks": ""
             }
            },
            "type": "parcoords"
           }
          ],
          "pie": [
           {
            "automargin": true,
            "type": "pie"
           }
          ],
          "scatter": [
           {
            "fillpattern": {
             "fillmode": "overlay",
             "size": 10,
             "solidity": 0.2
            },
            "type": "scatter"
           }
          ],
          "scatter3d": [
           {
            "line": {
             "colorbar": {
              "outlinewidth": 0,
              "ticks": ""
             }
            },
            "marker": {
             "colorbar": {
              "outlinewidth": 0,
              "ticks": ""
             }
            },
            "type": "scatter3d"
           }
          ],
          "scattercarpet": [
           {
            "marker": {
             "colorbar": {
              "outlinewidth": 0,
              "ticks": ""
             }
            },
            "type": "scattercarpet"
           }
          ],
          "scattergeo": [
           {
            "marker": {
             "colorbar": {
              "outlinewidth": 0,
              "ticks": ""
             }
            },
            "type": "scattergeo"
           }
          ],
          "scattergl": [
           {
            "marker": {
             "colorbar": {
              "outlinewidth": 0,
              "ticks": ""
             }
            },
            "type": "scattergl"
           }
          ],
          "scattermapbox": [
           {
            "marker": {
             "colorbar": {
              "outlinewidth": 0,
              "ticks": ""
             }
            },
            "type": "scattermapbox"
           }
          ],
          "scatterpolar": [
           {
            "marker": {
             "colorbar": {
              "outlinewidth": 0,
              "ticks": ""
             }
            },
            "type": "scatterpolar"
           }
          ],
          "scatterpolargl": [
           {
            "marker": {
             "colorbar": {
              "outlinewidth": 0,
              "ticks": ""
             }
            },
            "type": "scatterpolargl"
           }
          ],
          "scatterternary": [
           {
            "marker": {
             "colorbar": {
              "outlinewidth": 0,
              "ticks": ""
             }
            },
            "type": "scatterternary"
           }
          ],
          "surface": [
           {
            "colorbar": {
             "outlinewidth": 0,
             "ticks": ""
            },
            "colorscale": [
             [
              0,
              "#0d0887"
             ],
             [
              0.1111111111111111,
              "#46039f"
             ],
             [
              0.2222222222222222,
              "#7201a8"
             ],
             [
              0.3333333333333333,
              "#9c179e"
             ],
             [
              0.4444444444444444,
              "#bd3786"
             ],
             [
              0.5555555555555556,
              "#d8576b"
             ],
             [
              0.6666666666666666,
              "#ed7953"
             ],
             [
              0.7777777777777778,
              "#fb9f3a"
             ],
             [
              0.8888888888888888,
              "#fdca26"
             ],
             [
              1,
              "#f0f921"
             ]
            ],
            "type": "surface"
           }
          ],
          "table": [
           {
            "cells": {
             "fill": {
              "color": "#EBF0F8"
             },
             "line": {
              "color": "white"
             }
            },
            "header": {
             "fill": {
              "color": "#C8D4E3"
             },
             "line": {
              "color": "white"
             }
            },
            "type": "table"
           }
          ]
         },
         "layout": {
          "annotationdefaults": {
           "arrowcolor": "#2a3f5f",
           "arrowhead": 0,
           "arrowwidth": 1
          },
          "autotypenumbers": "strict",
          "coloraxis": {
           "colorbar": {
            "outlinewidth": 0,
            "ticks": ""
           }
          },
          "colorscale": {
           "diverging": [
            [
             0,
             "#8e0152"
            ],
            [
             0.1,
             "#c51b7d"
            ],
            [
             0.2,
             "#de77ae"
            ],
            [
             0.3,
             "#f1b6da"
            ],
            [
             0.4,
             "#fde0ef"
            ],
            [
             0.5,
             "#f7f7f7"
            ],
            [
             0.6,
             "#e6f5d0"
            ],
            [
             0.7,
             "#b8e186"
            ],
            [
             0.8,
             "#7fbc41"
            ],
            [
             0.9,
             "#4d9221"
            ],
            [
             1,
             "#276419"
            ]
           ],
           "sequential": [
            [
             0,
             "#0d0887"
            ],
            [
             0.1111111111111111,
             "#46039f"
            ],
            [
             0.2222222222222222,
             "#7201a8"
            ],
            [
             0.3333333333333333,
             "#9c179e"
            ],
            [
             0.4444444444444444,
             "#bd3786"
            ],
            [
             0.5555555555555556,
             "#d8576b"
            ],
            [
             0.6666666666666666,
             "#ed7953"
            ],
            [
             0.7777777777777778,
             "#fb9f3a"
            ],
            [
             0.8888888888888888,
             "#fdca26"
            ],
            [
             1,
             "#f0f921"
            ]
           ],
           "sequentialminus": [
            [
             0,
             "#0d0887"
            ],
            [
             0.1111111111111111,
             "#46039f"
            ],
            [
             0.2222222222222222,
             "#7201a8"
            ],
            [
             0.3333333333333333,
             "#9c179e"
            ],
            [
             0.4444444444444444,
             "#bd3786"
            ],
            [
             0.5555555555555556,
             "#d8576b"
            ],
            [
             0.6666666666666666,
             "#ed7953"
            ],
            [
             0.7777777777777778,
             "#fb9f3a"
            ],
            [
             0.8888888888888888,
             "#fdca26"
            ],
            [
             1,
             "#f0f921"
            ]
           ]
          },
          "colorway": [
           "#636efa",
           "#EF553B",
           "#00cc96",
           "#ab63fa",
           "#FFA15A",
           "#19d3f3",
           "#FF6692",
           "#B6E880",
           "#FF97FF",
           "#FECB52"
          ],
          "font": {
           "color": "#2a3f5f"
          },
          "geo": {
           "bgcolor": "white",
           "lakecolor": "white",
           "landcolor": "#E5ECF6",
           "showlakes": true,
           "showland": true,
           "subunitcolor": "white"
          },
          "hoverlabel": {
           "align": "left"
          },
          "hovermode": "closest",
          "mapbox": {
           "style": "light"
          },
          "paper_bgcolor": "white",
          "plot_bgcolor": "#E5ECF6",
          "polar": {
           "angularaxis": {
            "gridcolor": "white",
            "linecolor": "white",
            "ticks": ""
           },
           "bgcolor": "#E5ECF6",
           "radialaxis": {
            "gridcolor": "white",
            "linecolor": "white",
            "ticks": ""
           }
          },
          "scene": {
           "xaxis": {
            "backgroundcolor": "#E5ECF6",
            "gridcolor": "white",
            "gridwidth": 2,
            "linecolor": "white",
            "showbackground": true,
            "ticks": "",
            "zerolinecolor": "white"
           },
           "yaxis": {
            "backgroundcolor": "#E5ECF6",
            "gridcolor": "white",
            "gridwidth": 2,
            "linecolor": "white",
            "showbackground": true,
            "ticks": "",
            "zerolinecolor": "white"
           },
           "zaxis": {
            "backgroundcolor": "#E5ECF6",
            "gridcolor": "white",
            "gridwidth": 2,
            "linecolor": "white",
            "showbackground": true,
            "ticks": "",
            "zerolinecolor": "white"
           }
          },
          "shapedefaults": {
           "line": {
            "color": "#2a3f5f"
           }
          },
          "ternary": {
           "aaxis": {
            "gridcolor": "white",
            "linecolor": "white",
            "ticks": ""
           },
           "baxis": {
            "gridcolor": "white",
            "linecolor": "white",
            "ticks": ""
           },
           "bgcolor": "#E5ECF6",
           "caxis": {
            "gridcolor": "white",
            "linecolor": "white",
            "ticks": ""
           }
          },
          "title": {
           "x": 0.05
          },
          "xaxis": {
           "automargin": true,
           "gridcolor": "white",
           "linecolor": "white",
           "ticks": "",
           "title": {
            "standoff": 15
           },
           "zerolinecolor": "white",
           "zerolinewidth": 2
          },
          "yaxis": {
           "automargin": true,
           "gridcolor": "white",
           "linecolor": "white",
           "ticks": "",
           "title": {
            "standoff": 15
           },
           "zerolinecolor": "white",
           "zerolinewidth": 2
          }
         }
        }
       }
      }
     },
     "metadata": {},
     "output_type": "display_data"
    }
   ],
   "source": [
    "'''\n",
    "4. Define map layout\n",
    "'''\n",
    "\n",
    "import plotly.express as px\n",
    "# import plotly.io as pio\n",
    "# pio.renderers.default = \"vscode\"\n",
    "\n",
    "# fig = px.line_geo(lat=lats, lon=lons)\n",
    "# fig.update_geos(\n",
    "#     # center = dict(lat=lats[0], lon=lons[0]),\n",
    "#     # projection_rotation=dict(lon=30, lat=30, roll=30),\n",
    "#     # lataxis_range=[lats.min(), lats.max()], lonaxis_range=[lons.min(), lons.max()],\n",
    "#     lataxis_showgrid=True, lonaxis_showgrid=True,\n",
    "#     fitbounds=\"locations\"\n",
    "# )\n",
    "\n",
    "\n",
    "mapbox_access_token = open(\".mapbox_token\").read()\n",
    "\n",
    "px.set_mapbox_access_token(mapbox_access_token)\n",
    "fig = px.scatter_mapbox(lat=lats, lon=lons)\n",
    "\n",
    "fig.show()\n",
    "\n"
   ]
  }
 ],
 "metadata": {
  "kernelspec": {
   "display_name": "Python 3",
   "language": "python",
   "name": "python3"
  },
  "language_info": {
   "codemirror_mode": {
    "name": "ipython",
    "version": 3
   },
   "file_extension": ".py",
   "mimetype": "text/x-python",
   "name": "python",
   "nbconvert_exporter": "python",
   "pygments_lexer": "ipython3",
   "version": "3.10.13"
  }
 },
 "nbformat": 4,
 "nbformat_minor": 2
}
